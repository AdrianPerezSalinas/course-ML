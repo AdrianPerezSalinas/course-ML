{
 "cells": [
  {
   "cell_type": "markdown",
   "metadata": {},
   "source": [
    "# Ising model"
   ]
  },
  {
   "cell_type": "markdown",
   "metadata": {},
   "source": [
    "This code simulates the 2d Ising model using Monte Carlo methods. This is a simple physical problem where we take a square lattice of points with a magnet at each point. These magnets can either point up or down and the interactions are such that neighboring magnets like to be aligned. This would all be very simple if the system were not at finite temperature. The magnets would flip to end up all aligned. However the energy coming from the finite temperature may randomly cause some magnets to flip and perturb the system, which can prevent it from reaching a uniform state. If the temperature is low enough the magnets gradually form bigger and bigger islands where they are aligned and if we wait long enough they all become aligned. If the temperature if high enough the system never uniformizes because there is a balance between wanted flips and unwanted thermal flips. The transition between those two possible outcomes happens at a known temperature of 2.269 degrees (in the units that we use). The goal of the project is to give a picture of the state to a neural network and it can tell us if we are above or below the critical temperature."
   ]
  },
  {
   "cell_type": "markdown",
   "metadata": {},
   "source": [
    "The algorithm that is used to simulate the 2d Ising is called Metropolis. The steps go as follows:\n",
    "1. Initialize the lattice randomly with 1 or -1 at each site. 1 is for when the magnet points up and -1 if for when it points down.\n",
    "2. Randomly select a point on the grid. \n",
    "3. Calculate the change in the energy that would occur if we flipped the magnet. The energy is given by $E=-\\sum_{i,j}s_i s_j$, where we sum over all pairs of points on the lattice and $s_i$ is $\\pm 1$. If the change is negative, the system likes the change so the magnet is indeed flipped. If the change is positive, there is still a probability of $e^{-\\frac{\\Delta E}{T}}$ that the magnet gets flipped because of thermal fluctuations. Here $T$ is the temperature and $\\Delta E$ is the change in energy that occurs when we flip the magnet.\n",
    "4. Repeat step 3 for a number of steps equal to the size of a side of the lattice. This is considered as one time step. (This is where we update the value for the magnetization and the energy if interested in these quantites.)\n",
    "5. Repeat steps 3 and 4 for a given number of time steps.\n",
    "6. Plot, print the result.\n"
   ]
  },
  {
   "cell_type": "markdown",
   "metadata": {},
   "source": [
    "After the simulation, we use the results to train a neural network that determines if the state of the Ising system corresponds to a temperature higher or lower than the critical temperature."
   ]
  },
  {
   "cell_type": "markdown",
   "metadata": {},
   "source": [
    "# Simulation of the Ising model"
   ]
  },
  {
   "cell_type": "markdown",
   "metadata": {},
   "source": [
    "We first import the usual libraries in order to do the simulation."
   ]
  },
  {
   "cell_type": "code",
   "execution_count": 1,
   "metadata": {},
   "outputs": [],
   "source": [
    "import numpy as np\n",
    "import matplotlib.pyplot as plt\n",
    "from matplotlib import colors\n",
    "import math as m\n",
    "import random\n",
    "\n",
    "%matplotlib inline"
   ]
  },
  {
   "cell_type": "markdown",
   "metadata": {},
   "source": [
    "The first function to create makes a square grid (simply a matrix) of a fixed size with random values at each element taken from -1 or 1. "
   ]
  },
  {
   "cell_type": "code",
   "execution_count": 2,
   "metadata": {},
   "outputs": [],
   "source": [
    "def initialize_grid(dim):\n",
    "    '''\n",
    "    Create a dim by dim array of numbers chosen randomly from -1 or 1.\n",
    "    '''\n",
    "    grid = np.random.choice([-1,1], size = (dim,dim))\n",
    "    \n",
    "    return grid"
   ]
  },
  {
   "cell_type": "markdown",
   "metadata": {},
   "source": [
    "Next we make a function to plot a generic grid and add the option of putting a title. We need to create a color map where -1 is black and 1 is white. This will be useful to visualize results."
   ]
  },
  {
   "cell_type": "code",
   "execution_count": 3,
   "metadata": {},
   "outputs": [],
   "source": [
    "def plot_grid(grid, title=None):\n",
    "    '''\n",
    "    Plot grid with -1 being black and 1 being white with an option to add a title.\n",
    "    '''\n",
    "    # Create discrete colormap\n",
    "    cmap = colors.ListedColormap(['black', 'white'])\n",
    "    bounds = [-2,0,2]\n",
    "    norm = colors.BoundaryNorm(bounds, cmap.N)\n",
    "    \n",
    "    # Make plot\n",
    "    fig, ax = plt.subplots()\n",
    "    ax.imshow(grid, cmap = cmap, norm=norm)\n",
    "    ax.set_title(title)"
   ]
  },
  {
   "cell_type": "markdown",
   "metadata": {},
   "source": [
    "This is a function that computes the magnetization of a grid. This is simply the sum of all the elements and it is useful to classify the phase of the model."
   ]
  },
  {
   "cell_type": "code",
   "execution_count": 4,
   "metadata": {},
   "outputs": [],
   "source": [
    "def compute_magnetization(grid):\n",
    "    return np.sum(grid) / len(grid)"
   ]
  },
  {
   "cell_type": "markdown",
   "metadata": {},
   "source": [
    "This is one of the main functions of the algorithm. You give it a grid and two numbers that determine a position on the grid. The function first determines where the neighboring elements are. This is important because the grid has to be periodic so border elements are special. The change in energy due to reversing this element is then computed by adding all the contributions from the neighbors. Each one contributes by $$\\Delta E=2*grid(i, j)*grid(i_{neighbor}, j_{neighbor})$$"
   ]
  },
  {
   "cell_type": "code",
   "execution_count": 5,
   "metadata": {},
   "outputs": [],
   "source": [
    "def energy_change(grid, i, j):\n",
    "    '''\n",
    "    Assums a flip of the spin at position (i,j) on the grid and computes the change of\n",
    "    energy due to it.\n",
    "    Returns the change in energy.\n",
    "    '''\n",
    "    n = grid.shape[0]\n",
    "    if (i==0):\n",
    "        left = n-1\n",
    "    else:\n",
    "        left = i-1\n",
    "    if (i==n-1):\n",
    "        right = 0\n",
    "    else:\n",
    "        right = i+1\n",
    "    if (j==0):\n",
    "        down = n-1\n",
    "    else:\n",
    "        down = j-1\n",
    "    if (j==n-1):\n",
    "        up = 0\n",
    "    else:\n",
    "        up = j+1\n",
    "    dE = 2 * grid[i,j] * (grid[left,j] + grid[right,j] + grid[i,up] + grid[i,down])\n",
    "    return dE"
   ]
  },
  {
   "cell_type": "markdown",
   "metadata": {},
   "source": [
    "This function picks a random element of the grid. The actual output is the indices of the element."
   ]
  },
  {
   "cell_type": "code",
   "execution_count": 6,
   "metadata": {},
   "outputs": [],
   "source": [
    "def random_spin(grid):\n",
    "    '''\n",
    "    Choose randomly the position of one entry in the array grid.\n",
    "    Returns the location of the spin.\n",
    "    '''\n",
    "    n = grid.shape[0]\n",
    "    x_index = random.randint(0, n-1)\n",
    "    y_index = random.randint(0, n-1)\n",
    "    return (x_index, y_index)"
   ]
  },
  {
   "cell_type": "markdown",
   "metadata": {},
   "source": [
    "This is the second important function of the algorithm. It first uses the previously defined function to pick a random point on the grid. It then starts by computing the change in energy due to reversing this element by using the previously defined function. If the change is negative the element is indeed flipped. If not there is a probability $e^{-\\Delta E/T}$ that the flip still happens. The output is the grid with (potentially) some random element reversed."
   ]
  },
  {
   "cell_type": "code",
   "execution_count": 7,
   "metadata": {},
   "outputs": [],
   "source": [
    "def spin_flip(grid, T):\n",
    "    '''\n",
    "    Picks randomly one spin on the grid and calculates the change in energy due to flipping the spin.\n",
    "    If change is negative, flip the spin.\n",
    "    If change is positive, flip it only with some probability.\n",
    "    Returns the new grid with the spin potentially flipped.\n",
    "    '''\n",
    "    i, j = random_spin(grid)\n",
    "    delta_E = energy_change(grid, i, j)\n",
    "    if delta_E < 0:\n",
    "        grid[i,j] = -grid[i,j]\n",
    "    elif random.random() < m.exp(-delta_E/T):\n",
    "        grid[i,j] = -grid[i,j]\n",
    "    return grid"
   ]
  },
  {
   "cell_type": "markdown",
   "metadata": {},
   "source": [
    "This is the main function of the simulation where we put everything together to run the algorithm. We start by initialize a random grid. We then run the random flip n times for one time step and then repeat the process for a determined number of time steps. The final grid is returned along with (potentially) the initial and final configurations."
   ]
  },
  {
   "cell_type": "code",
   "execution_count": 8,
   "metadata": {},
   "outputs": [],
   "source": [
    "def ising_simulation(n, T, steps=100, plot=False):\n",
    "    '''\n",
    "    Simulate 2d Ising model.\n",
    "    Inputs:\n",
    "    - n: size of the square lattice is n by n\n",
    "    - T: temperature\n",
    "    - steps: number of flips the algorithm tries to make\n",
    "    - plot: decide if the grid is plotted at the beginning and the end of the simulation\n",
    "    Returns:\n",
    "    - the final grid\n",
    "    - if plot is True, the initial and final grids in two plots\n",
    "    '''\n",
    "    grid = initialize_grid(n)\n",
    "    \n",
    "    if plot==True:\n",
    "        plot_grid(grid, title='Initial grid')\n",
    "        \n",
    "    for i in range(steps):\n",
    "        for i in range(n):\n",
    "            grid = spin_flip(grid, T)\n",
    "            \n",
    "    if plot==True:\n",
    "        plot_grid(grid, title='Final grid')\n",
    "        \n",
    "    return grid"
   ]
  },
  {
   "cell_type": "code",
   "execution_count": 9,
   "metadata": {},
   "outputs": [
    {
     "data": {
      "text/plain": [
       "array([[-1, -1, -1, ...,  1, -1,  1],\n",
       "       [-1, -1,  1, ..., -1, -1, -1],\n",
       "       [-1,  1, -1, ..., -1,  1, -1],\n",
       "       ...,\n",
       "       [-1,  1, -1, ..., -1, -1,  1],\n",
       "       [ 1,  1,  1, ...,  1, -1, -1],\n",
       "       [-1,  1, -1, ...,  1,  1,  1]])"
      ]
     },
     "execution_count": 9,
     "metadata": {},
     "output_type": "execute_result"
    },
    {
     "data": {
      "image/png": "[encoded data removed]",
      "text/plain": [
       "<Figure size 640x480 with 1 Axes>"
      ]
     },
     "metadata": {},
     "output_type": "display_data"
    },
    {
     "data": {
      "image/png": "[encoded data removed]",
      "text/plain": [
       "<Figure size 640x480 with 1 Axes>"
      ]
     },
     "metadata": {},
     "output_type": "display_data"
    }
   ],
   "source": [
    "ising_simulation(50, 1000, 3000, plot=True)"
   ]
  },
  {
   "cell_type": "markdown",
   "metadata": {},
   "source": [
    "# Generating data"
   ]
  },
  {
   "cell_type": "markdown",
   "metadata": {},
   "source": [
    "The code that we have so far simulates the Ising model and gives a grid back but we want to automate the production of data. The simulation is ran for different values of temperature evenly spread in a determined interval and for a fixed number of repetitions. The function records the final grids as a list of matrices and it also reshapes these grid into vectors and stacks them together to get the right form necessary for machine learning algorithms. The final step is to record in a vector if the temperature is above or below the critical one. The function prints the iteration as it runs to let us see what is going on."
   ]
  },
  {
   "cell_type": "code",
   "execution_count": 68,
   "metadata": {},
   "outputs": [],
   "source": [
    "def generate_data(size, temp_min=0.1, temp_max=5, repeat=1, max_iter=None):\n",
    "    '''\n",
    "    Generate data from simulating the Ising model at different temperatures.\n",
    "    The temperatures are spread equally between temp_min and temp_max.\n",
    "    \n",
    "    Input:\n",
    "    - size: the grid is size x size\n",
    "    - num_temp: number of different temperatures to consider\n",
    "    - temp_min: minimum temperature to take\n",
    "    - temp_max: maximum temperature\n",
    "    - repeat: repeat the calculation for each temperature this number of times\n",
    "    - max_iter: number of time steps in the simulation of the Ising model (default is size^2)\n",
    "    \n",
    "    Output:\n",
    "    - X: (num_temp, size^2) array where each line is a vectorized version of the grid and every line is a different run\n",
    "    - y: (num_temp, 1) array that says if the simulation is made above the critical temps (y=1) or below (y=0)\n",
    "    '''\n",
    "    \n",
    "    if max_iter==None:\n",
    "        max_iter = int(1e4) #Modify this for low-quality and cheap data\n",
    "\n",
    "    X = np.zeros((repeat, size**2), dtype = int)\n",
    "    y = np.zeros((repeat, 1), dtype = int)\n",
    "    t = np.zeros((repeat, 1), dtype = float)\n",
    "    temps = temp_min + (temp_max - temp_min) * np.random.rand(repeat)\n",
    "\n",
    "    for i in range(repeat):\n",
    "        grid = ising_simulation(size, temps[i], max_iter)\n",
    "        X[i,:] = grid.reshape(1,grid.size)\n",
    "        y[i,:] = (temps[i] > 2.269)\n",
    "        print(i, end=\"\\r\")\n",
    "    \n",
    "    return X, y, temps"
   ]
  },
  {
   "cell_type": "markdown",
   "metadata": {},
   "source": [
    "This generates data to use later to train the neural network for a grid of 25 by 25."
   ]
  },
  {
   "cell_type": "code",
   "execution_count": 69,
   "metadata": {},
   "outputs": [
    {
     "name": "stdout",
     "output_type": "stream",
     "text": [
      "499\r"
     ]
    }
   ],
   "source": [
    "\n",
    "# Uncomment these lines to generate and save data\n",
    "\n",
    "X, y, t = generate_data(size=25, repeat=500)\n",
    "\n",
    "np.savetxt('X_train_ising.txt', X)\n",
    "np.savetxt('y_train_ising.txt', y)\n",
    "np.savetxt('t_train_ising.txt', t)\n",
    "\n",
    "\n",
    "\n",
    "# Uncomment these lines to load saved data\n",
    "\n",
    "X = np.loadtxt('X_train_ising.txt')\n",
    "y = np.loadtxt('y_train_ising.txt')\n",
    "t = np.loadtxt('t_train_ising.txt')\n"
   ]
  },
  {
   "cell_type": "markdown",
   "metadata": {},
   "source": [
    "This uses the same grid and generates less data to use as a dev/test set."
   ]
  },
  {
   "cell_type": "code",
   "execution_count": 70,
   "metadata": {},
   "outputs": [
    {
     "name": "stdout",
     "output_type": "stream",
     "text": [
      "99\r"
     ]
    }
   ],
   "source": [
    "\n",
    "# Uncomment to generate and save data\n",
    "X_test, y_test, t_test = generate_data(size=25, repeat=100)\n",
    "np.savetxt('X_test_ising.txt', X_test)\n",
    "np.savetxt('y_test_ising.txt', y_test)\n",
    "np.savetxt('t_test_ising.txt', t_test)\n",
    "\n",
    "\n",
    "\n",
    "# Uncomment these lines to load saved data\n",
    "X_test = np.loadtxt('X_test_ising.txt')\n",
    "y_test = np.loadtxt('y_test_ising.txt')\n",
    "t_test = np.loadtxt('t_test_ising.txt')\n",
    "\n"
   ]
  },
  {
   "cell_type": "code",
   "execution_count": 55,
   "metadata": {},
   "outputs": [
    {
     "data": {
      "text/plain": [
       "Text(0.5, 1.0, 'Antiferromagnetic phase')"
      ]
     },
     "execution_count": 55,
     "metadata": {},
     "output_type": "execute_result"
    },
    {
     "data": {
      "image/png": "[encoded data removed]",
      "text/plain": [
       "<Figure size 1000x600 with 2 Axes>"
      ]
     },
     "metadata": {},
     "output_type": "display_data"
    }
   ],
   "source": [
    "fig = plt.figure(figsize = (10, 6))\n",
    "ax = plt.subplot(1, 2, 1)\n",
    "ax.imshow(X[1].reshape((25, 25)), cmap=colors.ListedColormap(['black', 'white']))\n",
    "ax.set_title('Ferromagnetic phase')\n",
    "ax = plt.subplot(1, 2, 2)\n",
    "ax.imshow(X[-1].reshape((25, 25)), cmap=colors.ListedColormap(['black', 'white']))\n",
    "ax.set_title('Antiferromagnetic phase')"
   ]
  },
  {
   "cell_type": "markdown",
   "metadata": {},
   "source": [
    "# Using keras"
   ]
  },
  {
   "cell_type": "markdown",
   "metadata": {},
   "source": [
    "Now we want to train a neural network using keras to predict the labels y from the data X. We first import the necessary libraries and functions."
   ]
  },
  {
   "cell_type": "code",
   "execution_count": 25,
   "metadata": {},
   "outputs": [],
   "source": [
    "import tensorflow as tf\n",
    "from tensorflow import keras\n",
    "from keras.models import Sequential\n",
    "from keras.layers import Dense, Activation\n",
    "from keras.regularizers import l2"
   ]
  },
  {
   "cell_type": "markdown",
   "metadata": {},
   "source": [
    "The first way of doing the training is simply to do it directly. We consider a network with two hidden layers (plus the input and output layers). Since there is a lot of randomness in the training (we don't train long enough to get rid of that) it is better to run the taining many times, keep track of the errors each time and average them at the end. This run uses the optimal hyperparameters found using tuning."
   ]
  },
  {
   "cell_type": "code",
   "execution_count": 26,
   "metadata": {},
   "outputs": [
    {
     "name": "stdout",
     "output_type": "stream",
     "text": [
      "Training errors: 0.9987499713897705\n",
      "Test errors: 0.9549999833106995\n"
     ]
    }
   ],
   "source": [
    "# Loop to run model many times and average over results\n",
    "\n",
    "# Print iteration to make sure everything works\n",
    "print(i, end=\"\\r\")\n",
    "\n",
    "# Initialize model\n",
    "model = Sequential()\n",
    "\n",
    "# Add hidden layer with 32 units and rlu activation. Add output layer with sigmoid activation.\n",
    "model.add(Dense(25, activation='relu', kernel_regularizer=l2(0.1), input_dim=25**2))\n",
    "model.add(Dense(15, activation='relu', kernel_regularizer=l2(0.1)))\n",
    "model.add(Dense(1, activation='sigmoid'))\n",
    "\n",
    "# Compile model\n",
    "model.compile(optimizer='Adam', loss='binary_crossentropy', metrics=['accuracy'])\n",
    "\n",
    "# Fit model\n",
    "model.fit(X, y, epochs=40, verbose=0)\n",
    "\n",
    "# Add training and test errors to lists\n",
    "train_errors = model.evaluate(X,y,verbose=0)[1]\n",
    "test_errors = model.evaluate(X_test,y_test,verbose=0)[1]\n",
    "\n",
    "\n",
    "print('Training errors: '+str(train_errors))\n",
    "print('Test errors: '+str(test_errors))"
   ]
  },
  {
   "cell_type": "code",
   "execution_count": 27,
   "metadata": {},
   "outputs": [],
   "source": [
    "mags = [compute_magnetization(x) for x in X]"
   ]
  },
  {
   "cell_type": "code",
   "execution_count": 56,
   "metadata": {},
   "outputs": [
    {
     "name": "stdout",
     "output_type": "stream",
     "text": [
      "\u001b[1m25/25\u001b[0m \u001b[32m━━━━━━━━━━━━━━━━━━━━\u001b[0m\u001b[37m\u001b[0m \u001b[1m0s\u001b[0m 971us/step\n"
     ]
    },
    {
     "data": {
      "text/plain": [
       "<matplotlib.legend.Legend at 0x77727b0aa660>"
      ]
     },
     "execution_count": 56,
     "metadata": {},
     "output_type": "execute_result"
    },
    {
     "data": {
      "image/png": "[encoded data removed]",
      "text/plain": [
       "<Figure size 1000x600 with 1 Axes>"
      ]
     },
     "metadata": {},
     "output_type": "display_data"
    }
   ],
   "source": [
    "plt.figure(figsize=(10,6))\n",
    "# plt.subplot(1,3,1)\n",
    "# plt.scatter(t, np.abs(mags), label = 'Magnetization')\n",
    "# plt.scatter(t, 1 - model.predict(X), label = 'Prediction')\n",
    "# plt.vlines(2.269, 0, 1, 'k')\n",
    "# plt.legend()\n",
    "\n",
    "# plt.subplot(1,3,2)\n",
    "# plt.scatter(np.abs(mags), 1 - model.predict(X))\n",
    "# plt.title('Magnetization vs. Prediction')\n",
    "# plt.legend()# \n",
    "\n",
    "plt.subplot(1,1,1)\n",
    "plt.scatter(t, y, label = 'Phase')\n",
    "plt.scatter(t, 0.05 + 0.9 * (model.predict(X) > 0.5), label = 'Prediction')\n",
    "plt.vlines(2.269, 0, 1, 'k')\n",
    "plt.legend()\n"
   ]
  },
  {
   "cell_type": "code",
   "execution_count": null,
   "metadata": {},
   "outputs": [],
   "source": []
  }
 ],
 "metadata": {
  "kernelspec": {
   "display_name": "Python 3 (ipykernel)",
   "language": "python",
   "name": "python3"
  },
  "language_info": {
   "codemirror_mode": {
    "name": "ipython",
    "version": 3
   },
   "file_extension": ".py",
   "mimetype": "text/x-python",
   "name": "python",
   "nbconvert_exporter": "python",
   "pygments_lexer": "ipython3",
   "version": "3.12.3"
  }
 },
 "nbformat": 4,
 "nbformat_minor": 2
}
