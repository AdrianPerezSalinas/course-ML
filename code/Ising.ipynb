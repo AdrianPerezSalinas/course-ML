{
 "cells": [
  {
   "cell_type": "markdown",
   "metadata": {},
   "source": [
    "# Ising model"
   ]
  },
  {
   "cell_type": "markdown",
   "metadata": {},
   "source": [
    "This code simulates the 2d Ising model using Monte Carlo methods. This is a simple physical problem where we take a square lattice of points with a magnet at each point. These magnets can either point up or down and the interactions are such that neighboring magnets like to be aligned. This would all be very simple if the system were not at finite temperature. The magnets would flip to end up all aligned. However the energy coming from the finite temperature may randomly cause some magnets to flip and perturb the system, which can prevent it from reaching a uniform state. If the temperature is low enough the magnets gradually form bigger and bigger islands where they are aligned and if we wait long enough they all become aligned. If the temperature if high enough the system never uniformizes because there is a balance between wanted flips and unwanted thermal flips. The transition between those two possible outcomes happens at a known temperature of 2.269 degrees (in the units that we use). The goal of the project is to give a picture of the state to a neural network and it can tell us if we are above or below the critical temperature."
   ]
  },
  {
   "cell_type": "markdown",
   "metadata": {},
   "source": [
    "The algorithm that is used to simulate the 2d Ising is called Metropolis. The steps go as follows:\n",
    "1. Initialize the lattice randomly with 1 or -1 at each site. 1 is for when the magnet points up and -1 if for when it points down.\n",
    "2. Randomly select a point on the grid. \n",
    "3. Calculate the change in the energy that would occur if we flipped the magnet. The energy is given by $E=-\\sum_{i,j}s_i s_j$, where we sum over all pairs of points on the lattice and $s_i$ is $\\pm 1$. If the change is negative, the system likes the change so the magnet is indeed flipped. If the change is positive, there is still a probability of $e^{-\\frac{\\Delta E}{T}}$ that the magnet gets flipped because of thermal fluctuations. Here $T$ is the temperature and $\\Delta E$ is the change in energy that occurs when we flip the magnet.\n",
    "4. Repeat step 3 for a number of steps equal to the size of a side of the lattice. This is considered as one time step. (This is where we update the value for the magnetization and the energy if interested in these quantites.)\n",
    "5. Repeat steps 3 and 4 for a given number of time steps.\n",
    "6. Plot, print the result.\n"
   ]
  },
  {
   "cell_type": "markdown",
   "metadata": {},
   "source": [
    "After the simulation, we use the results to train a neural network that determines if the state of the Ising system corresponds to a temperature higher or lower than the critical temperature."
   ]
  },
  {
   "cell_type": "markdown",
   "metadata": {},
   "source": [
    "# Simulation of the Ising model"
   ]
  },
  {
   "cell_type": "markdown",
   "metadata": {},
   "source": [
    "We first import the usual libraries in order to do the simulation."
   ]
  },
  {
   "cell_type": "code",
   "execution_count": 2,
   "metadata": {},
   "outputs": [],
   "source": [
    "import numpy as np\n",
    "import matplotlib.pyplot as plt\n",
    "from matplotlib import colors\n",
    "import math as m\n",
    "import random\n",
    "\n",
    "%matplotlib inline"
   ]
  },
  {
   "cell_type": "markdown",
   "metadata": {},
   "source": [
    "The first function to create makes a square grid (simply a matrix) of a fixed size with random values at each element taken from -1 or 1. "
   ]
  },
  {
   "cell_type": "code",
   "execution_count": 3,
   "metadata": {},
   "outputs": [],
   "source": [
    "def initialize_grid(dim):\n",
    "    '''\n",
    "    Create a dim by dim array of numbers chosen randomly from -1 or 1.\n",
    "    '''\n",
    "    grid = np.random.choice([-1,1], size = (dim,dim))\n",
    "    \n",
    "    return grid"
   ]
  },
  {
   "cell_type": "markdown",
   "metadata": {},
   "source": [
    "Next we make a function to plot a generic grid and add the option of putting a title. We need to create a color map where -1 is black and 1 is white. This will be useful to visualize results."
   ]
  },
  {
   "cell_type": "code",
   "execution_count": 4,
   "metadata": {},
   "outputs": [],
   "source": [
    "def plot_grid(grid, title=None):\n",
    "    '''\n",
    "    Plot grid with -1 being black and 1 being white with an option to add a title.\n",
    "    '''\n",
    "    # Create discrete colormap\n",
    "    cmap = colors.ListedColormap(['black', 'white'])\n",
    "    bounds = [-2,0,2]\n",
    "    norm = colors.BoundaryNorm(bounds, cmap.N)\n",
    "    \n",
    "    # Make plot\n",
    "    fig, ax = plt.subplots()\n",
    "    ax.imshow(grid, cmap = cmap, norm=norm)\n",
    "    ax.set_title(title)"
   ]
  },
  {
   "cell_type": "markdown",
   "metadata": {},
   "source": [
    "This is a function that computes the magnetization of a grid. This is simply the sum of all the elements and it is useful to classify the phase of the model."
   ]
  },
  {
   "cell_type": "code",
   "execution_count": 56,
   "metadata": {},
   "outputs": [],
   "source": [
    "def compute_magnetization(grid):\n",
    "    return np.sum(grid) / len(grid)"
   ]
  },
  {
   "cell_type": "markdown",
   "metadata": {},
   "source": [
    "This is one of the main functions of the algorithm. You give it a grid and two numbers that determine a position on the grid. The function first determines where the neighboring elements are. This is important because the grid has to be periodic so border elements are special. The change in energy due to reversing this element is then computed by adding all the contributions from the neighbors. Each one contributes by $$\\Delta E=2*grid(i, j)*grid(i_{neighbor}, j_{neighbor})$$"
   ]
  },
  {
   "cell_type": "code",
   "execution_count": 6,
   "metadata": {},
   "outputs": [],
   "source": [
    "def energy_change(grid, i, j):\n",
    "    '''\n",
    "    Assums a flip of the spin at position (i,j) on the grid and computes the change of\n",
    "    energy due to it.\n",
    "    Returns the change in energy.\n",
    "    '''\n",
    "    n = grid.shape[0]\n",
    "    if (i==0):\n",
    "        left = n-1\n",
    "    else:\n",
    "        left = i-1\n",
    "    if (i==n-1):\n",
    "        right = 0\n",
    "    else:\n",
    "        right = i+1\n",
    "    if (j==0):\n",
    "        down = n-1\n",
    "    else:\n",
    "        down = j-1\n",
    "    if (j==n-1):\n",
    "        up = 0\n",
    "    else:\n",
    "        up = j+1\n",
    "    dE = 2 * grid[i,j] * (grid[left,j] + grid[right,j] + grid[i,up] + grid[i,down])\n",
    "    return dE"
   ]
  },
  {
   "cell_type": "markdown",
   "metadata": {},
   "source": [
    "This function picks a random element of the grid. The actual output is the indices of the element."
   ]
  },
  {
   "cell_type": "code",
   "execution_count": 7,
   "metadata": {},
   "outputs": [],
   "source": [
    "def random_spin(grid):\n",
    "    '''\n",
    "    Choose randomly the position of one entry in the array grid.\n",
    "    Returns the location of the spin.\n",
    "    '''\n",
    "    n = grid.shape[0]\n",
    "    x_index = random.randint(0, n-1)\n",
    "    y_index = random.randint(0, n-1)\n",
    "    return (x_index, y_index)"
   ]
  },
  {
   "cell_type": "markdown",
   "metadata": {},
   "source": [
    "This is the second important function of the algorithm. It first uses the previously defined function to pick a random point on the grid. It then starts by computing the change in energy due to reversing this element by using the previously defined function. If the change is negative the element is indeed flipped. If not there is a probability $e^{-\\Delta E/T}$ that the flip still happens. The output is the grid with (potentially) some random element reversed."
   ]
  },
  {
   "cell_type": "code",
   "execution_count": 8,
   "metadata": {},
   "outputs": [],
   "source": [
    "def spin_flip(grid, T):\n",
    "    '''\n",
    "    Picks randomly one spin on the grid and calculates the change in energy due to flipping the spin.\n",
    "    If change is negative, flip the spin.\n",
    "    If change is positive, flip it only with some probability.\n",
    "    Returns the new grid with the spin potentially flipped.\n",
    "    '''\n",
    "    i, j = random_spin(grid)\n",
    "    delta_E = energy_change(grid, i, j)\n",
    "    if delta_E < 0:\n",
    "        grid[i,j] = -grid[i,j]\n",
    "    elif random.random() < m.exp(-delta_E/T):\n",
    "        grid[i,j] = -grid[i,j]\n",
    "    return grid"
   ]
  },
  {
   "cell_type": "markdown",
   "metadata": {},
   "source": [
    "This is the main function of the simulation where we put everything together to run the algorithm. We start by initialize a random grid. We then run the random flip n times for one time step and then repeat the process for a determined number of time steps. The final grid is returned along with (potentially) the initial and final configurations."
   ]
  },
  {
   "cell_type": "code",
   "execution_count": null,
   "metadata": {},
   "outputs": [],
   "source": [
    "def ising_simulation(n, T, steps=100, plot=False):\n",
    "    '''\n",
    "    Simulate 2d Ising model.\n",
    "    Inputs:\n",
    "    - n: size of the square lattice is n by n\n",
    "    - T: temperature\n",
    "    - steps: number of flips the algorithm tries to make\n",
    "    - plot: decide if the grid is plotted at the beginning and the end of the simulation\n",
    "    Returns:\n",
    "    - the final grid\n",
    "    - if plot is True, the initial and final grids in two plots\n",
    "    '''\n",
    "    grid = initialize_grid(n)\n",
    "    \n",
    "    if plot==True:\n",
    "        plot_grid(grid, title='Initial grid')\n",
    "        \n",
    "    for i in range(steps):\n",
    "        for i in range(n):\n",
    "            grid = spin_flip(grid, T)\n",
    "            \n",
    "    if plot==True:\n",
    "        plot_grid(grid, title='Final grid')\n",
    "        \n",
    "    return grid"
   ]
  },
  {
   "cell_type": "code",
   "execution_count": 14,
   "metadata": {},
   "outputs": [
    {
     "data": {
      "text/plain": [
       "array([[-1,  1,  1, ..., -1, -1,  1],\n",
       "       [-1, -1,  1, ...,  1, -1,  1],\n",
       "       [-1, -1, -1, ..., -1,  1,  1],\n",
       "       ...,\n",
       "       [ 1, -1, -1, ...,  1,  1,  1],\n",
       "       [ 1,  1, -1, ...,  1,  1, -1],\n",
       "       [-1, -1, -1, ...,  1, -1, -1]])"
      ]
     },
     "execution_count": 14,
     "metadata": {},
     "output_type": "execute_result"
    },
    {
     "data": {
      "image/png": "[encoded data removed]",
      "text/plain": [
       "<Figure size 640x480 with 1 Axes>"
      ]
     },
     "metadata": {},
     "output_type": "display_data"
    },
    {
     "data": {
      "image/png": "[encoded data removed]",
      "text/plain": [
       "<Figure size 640x480 with 1 Axes>"
      ]
     },
     "metadata": {},
     "output_type": "display_data"
    }
   ],
   "source": [
    "ising_simulation(50, 1000, 3000, plot=True)"
   ]
  },
  {
   "cell_type": "markdown",
   "metadata": {},
   "source": [
    "# Generating data"
   ]
  },
  {
   "cell_type": "markdown",
   "metadata": {},
   "source": [
    "The code that we have so far simulates the Ising model and gives a grid back but we want to automate the production of data. The simulation is ran for different values of temperature evenly spread in a determined interval and for a fixed number of repetitions. The function records the final grids as a list of matrices and it also reshapes these grid into vectors and stacks them together to get the right form necessary for machine learning algorithms. The final step is to record in a vector if the temperature is above or below the critical one. The function prints the iteration as it runs to let us see what is going on."
   ]
  },
  {
   "cell_type": "code",
   "execution_count": null,
   "metadata": {},
   "outputs": [],
   "source": [
    "def generate_data(size, num_temp, temp_min=0.1, temp_max=5, repeat=1, max_iter=None):\n",
    "    '''\n",
    "    Generate data from simulating the Ising model at different temperatures.\n",
    "    The temperatures are spread equally between temp_min and temp_max.\n",
    "    \n",
    "    Input:\n",
    "    - size: the grid is size x size\n",
    "    - num_temp: number of different temperatures to consider\n",
    "    - temp_min: minimum temperature to take\n",
    "    - temp_max: maximum temperature\n",
    "    - repeat: repeat the calculation for each temperature this number of times\n",
    "    - max_iter: number of time steps in the simulation of the Ising model (default is size^2)\n",
    "    \n",
    "    Output:\n",
    "    - X: (num_temp, size^2) array where each line is a vectorized version of the grid and every line is a different run\n",
    "    - y: (num_temp, 1) array that says if the simulation is made above the critical temps (y=1) or below (y=0)\n",
    "    '''\n",
    "    \n",
    "    if max_iter==None:\n",
    "        max_iter = int(1e4) #Modify this for low-quality and cheap data\n",
    "\n",
    "    X = np.zeros((num_temp*repeat, size**2), dtype = int)\n",
    "    y = np.zeros((num_temp*repeat, 1), dtype = int)\n",
    "    t = np.zeros((num_temp*repeat, 1), dtype = float)\n",
    "    temps = np.linspace(temp_min, temp_max, num = num_temp)\n",
    "\n",
    "    for i in range(repeat):\n",
    "        for j in range(num_temp):\n",
    "            grid = ising_simulation(size, temps[j], max_iter)\n",
    "            X[i*num_temp+j,:] = grid.reshape(1,grid.size)\n",
    "            y[i*num_temp+j,:] = (temps[j] > 2.269)\n",
    "            t[i*num_temp+j,:] = temps[j]\n",
    "            print(i*num_temp+j, end=\"\\r\")\n",
    "    \n",
    "    return X, y, t"
   ]
  },
  {
   "cell_type": "markdown",
   "metadata": {},
   "source": [
    "This generates data to use later to train the neural network for a grid of 25 by 25."
   ]
  },
  {
   "cell_type": "code",
   "execution_count": 62,
   "metadata": {},
   "outputs": [
    {
     "name": "stdout",
     "output_type": "stream",
     "text": [
      "799\r"
     ]
    }
   ],
   "source": [
    "X, y, t = generate_data(size=25, num_temp=40, repeat=20)\n",
    "\n",
    "np.savetxt('X_train_ising.txt', X)\n",
    "np.savetxt('y_train_ising.txt', y)\n",
    "np.savetxt('t_train_ising.txt', t)"
   ]
  },
  {
   "cell_type": "markdown",
   "metadata": {},
   "source": [
    "This uses the same grid and generates less data to use as a dev/test set."
   ]
  },
  {
   "cell_type": "code",
   "execution_count": 37,
   "metadata": {},
   "outputs": [
    {
     "name": "stdout",
     "output_type": "stream",
     "text": [
      "199\r"
     ]
    }
   ],
   "source": [
    "X_test, y_test, t_test = generate_data(size=25, num_temp=20, repeat=10)\n",
    "np.savetxt('X_test_ising.txt', X_test)\n",
    "np.savetxt('y_test_ising.txt', y_test)\n",
    "np.savetxt('t_test_ising.txt', t_test)"
   ]
  },
  {
   "cell_type": "code",
   "execution_count": 64,
   "metadata": {
    "scrolled": true
   },
   "outputs": [
    {
     "name": "stdout",
     "output_type": "stream",
     "text": [
      "[ 1 -1  1 -1  1  1  1 -1  1 -1  1  1  1  1  1  1  1  1  1  1  1  1 -1  1\n",
      "  1  1  1  1 -1 -1  1  1 -1 -1 -1  1 -1  1  1  1  1  1  1  1  1  1  1  1\n",
      "  1  1  1  1  1 -1 -1  1 -1  1 -1 -1  1  1  1  1  1  1  1  1  1  1  1  1\n",
      " -1  1  1 -1  1  1  1  1  1  1  1  1  1  1  1  1  1  1  1  1  1  1 -1 -1\n",
      "  1  1  1  1  1  1  1  1  1  1  1  1  1  1  1  1  1  1 -1  1  1  1  1  1\n",
      "  1  1  1  1  1  1 -1  1  1  1 -1 -1 -1  1 -1  1  1 -1 -1 -1 -1 -1 -1  1\n",
      "  1  1  1  1  1  1  1  1  1  1 -1 -1 -1 -1 -1 -1 -1  1  1  1 -1 -1  1 -1\n",
      "  1  1  1  1  1 -1 -1  1  1  1  1  1  1 -1  1  1  1  1  1  1  1  1  1  1\n",
      "  1  1  1  1  1  1  1  1  1 -1  1  1  1 -1 -1 -1  1  1  1  1  1  1  1  1\n",
      "  1  1 -1  1 -1 -1 -1  1  1 -1 -1  1  1 -1 -1 -1 -1 -1  1  1  1  1  1  1\n",
      "  1  1  1 -1 -1  1 -1 -1  1 -1  1 -1  1  1 -1 -1  1 -1 -1  1  1  1  1  1\n",
      " -1  1  1  1  1 -1 -1 -1  1  1  1  1 -1 -1 -1 -1 -1 -1 -1 -1 -1 -1  1  1\n",
      "  1  1  1  1  1 -1 -1 -1  1  1  1  1  1 -1 -1 -1 -1 -1 -1 -1 -1 -1 -1 -1\n",
      "  1 -1  1  1  1  1  1 -1  1 -1 -1 -1  1  1 -1 -1 -1 -1 -1 -1 -1 -1 -1 -1\n",
      " -1 -1 -1  1  1  1  1  1  1 -1 -1 -1 -1 -1 -1 -1 -1 -1  1  1  1 -1 -1 -1\n",
      " -1 -1 -1  1  1  1  1 -1 -1  1  1 -1 -1  1 -1  1 -1 -1 -1  1  1  1 -1 -1\n",
      " -1  1  1  1  1  1  1  1  1  1 -1 -1 -1 -1  1  1 -1  1  1  1  1  1  1 -1\n",
      " -1  1  1  1  1  1 -1  1  1  1  1  1  1  1 -1  1  1 -1 -1 -1 -1 -1  1  1\n",
      " -1  1  1 -1 -1  1  1 -1  1  1  1  1  1  1  1  1  1  1 -1 -1 -1 -1  1  1\n",
      "  1 -1  1 -1 -1  1 -1  1  1  1  1  1  1  1 -1  1  1 -1 -1 -1 -1 -1 -1 -1\n",
      " -1  1 -1  1 -1  1  1 -1  1  1  1  1  1  1  1  1  1 -1  1 -1 -1 -1 -1 -1\n",
      " -1 -1 -1 -1 -1 -1  1 -1 -1  1  1  1  1  1  1  1  1 -1 -1  1 -1  1  1 -1\n",
      " -1 -1 -1 -1 -1 -1 -1 -1 -1 -1  1  1  1  1  1  1  1  1 -1 -1  1  1 -1  1\n",
      "  1 -1 -1 -1 -1 -1 -1 -1 -1 -1 -1  1  1  1  1  1  1  1  1  1  1  1  1 -1\n",
      "  1  1 -1 -1  1 -1 -1  1  1  1  1  1  1  1  1  1  1  1  1  1  1  1  1  1\n",
      " -1 -1 -1 -1 -1  1  1 -1 -1 -1  1  1  1  1  1  1  1  1  1 -1  1  1  1 -1\n",
      "  1]\n"
     ]
    },
    {
     "data": {
      "text/plain": [
       "array([1])"
      ]
     },
     "execution_count": 64,
     "metadata": {},
     "output_type": "execute_result"
    }
   ],
   "source": [
    "i = 60\n",
    "print(X[i])\n",
    "y[i]"
   ]
  },
  {
   "cell_type": "code",
   "execution_count": null,
   "metadata": {},
   "outputs": [],
   "source": []
  },
  {
   "cell_type": "markdown",
   "metadata": {},
   "source": [
    "# Using keras"
   ]
  },
  {
   "cell_type": "markdown",
   "metadata": {},
   "source": [
    "Now we want to train a neural network using keras to predict the labels y from the data X. We first import the necessary libraries and functions."
   ]
  },
  {
   "cell_type": "code",
   "execution_count": 65,
   "metadata": {},
   "outputs": [],
   "source": [
    "import tensorflow as tf\n",
    "from tensorflow import keras\n",
    "from keras.models import Sequential\n",
    "from keras.layers import Dense, Activation\n",
    "from keras.regularizers import l2"
   ]
  },
  {
   "cell_type": "markdown",
   "metadata": {},
   "source": [
    "The first way of doing the training is simply to do it directly. We consider a network with two hidden layers (plus the input and output layers). Since there is a lot of randomness in the training (we don't train long enough to get rid of that) it is better to run the taining many times, keep track of the errors each time and average them at the end. This run uses the optimal hyperparameters found using tuning."
   ]
  },
  {
   "cell_type": "code",
   "execution_count": 66,
   "metadata": {},
   "outputs": [
    {
     "name": "stdout",
     "output_type": "stream",
     "text": [
      "60\r"
     ]
    },
    {
     "name": "stderr",
     "output_type": "stream",
     "text": [
      "/home/perezsalinas/Trabajo/venvs/mbr/lib/python3.12/site-packages/keras/src/layers/core/dense.py:87: UserWarning: Do not pass an `input_shape`/`input_dim` argument to a layer. When using Sequential models, prefer using an `Input(shape)` object as the first layer in the model instead.\n",
      "  super().__init__(activity_regularizer=activity_regularizer, **kwargs)\n"
     ]
    },
    {
     "name": "stdout",
     "output_type": "stream",
     "text": [
      "Training errors: 0.9950000047683716\n",
      "Test errors: 0.7599999904632568\n"
     ]
    }
   ],
   "source": [
    "# Loop to run model many times and average over results\n",
    "\n",
    "# Print iteration to make sure everything works\n",
    "print(i, end=\"\\r\")\n",
    "\n",
    "# Initialize model\n",
    "model = Sequential()\n",
    "\n",
    "# Add hidden layer with 32 units and rlu activation. Add output layer with sigmoid activation.\n",
    "model.add(Dense(25, activation='relu', kernel_regularizer=l2(0.1), input_dim=25**2))\n",
    "model.add(Dense(15, activation='relu', kernel_regularizer=l2(0.1)))\n",
    "model.add(Dense(1, activation='sigmoid'))\n",
    "\n",
    "# Compile model\n",
    "model.compile(optimizer='Adam', loss='binary_crossentropy', metrics=['accuracy'])\n",
    "\n",
    "# Fit model\n",
    "model.fit(X, y, epochs=40, verbose=0)\n",
    "\n",
    "# Add training and test errors to lists\n",
    "train_errors = model.evaluate(X,y,verbose=0)[1]\n",
    "test_errors = model.evaluate(X_test,y_test,verbose=0)[1]\n",
    "\n",
    "\n",
    "print('Training errors: '+str(train_errors))\n",
    "print('Test errors: '+str(test_errors))"
   ]
  },
  {
   "cell_type": "code",
   "execution_count": 67,
   "metadata": {},
   "outputs": [],
   "source": [
    "mags = [compute_magnetization(x) for x in X]"
   ]
  },
  {
   "cell_type": "code",
   "execution_count": 90,
   "metadata": {},
   "outputs": [
    {
     "name": "stdout",
     "output_type": "stream",
     "text": [
      "\u001b[1m25/25\u001b[0m \u001b[32m━━━━━━━━━━━━━━━━━━━━\u001b[0m\u001b[37m\u001b[0m \u001b[1m0s\u001b[0m 1ms/step \n",
      "\u001b[1m25/25\u001b[0m \u001b[32m━━━━━━━━━━━━━━━━━━━━\u001b[0m\u001b[37m\u001b[0m \u001b[1m0s\u001b[0m 1ms/step \n",
      "\u001b[1m25/25\u001b[0m \u001b[32m━━━━━━━━━━━━━━━━━━━━\u001b[0m\u001b[37m\u001b[0m \u001b[1m0s\u001b[0m 902us/step\n"
     ]
    },
    {
     "name": "stderr",
     "output_type": "stream",
     "text": [
      "/tmp/ipykernel_30525/1567184719.py:11: UserWarning: No artists with labels found to put in legend.  Note that artists whose label start with an underscore are ignored when legend() is called with no argument.\n",
      "  plt.legend()\n"
     ]
    },
    {
     "data": {
      "text/plain": [
       "<matplotlib.legend.Legend at 0x76a806efe7e0>"
      ]
     },
     "execution_count": 90,
     "metadata": {},
     "output_type": "execute_result"
    },
    {
     "data": {
      "image/png": "[encoded data removed]",
      "text/plain": [
       "<Figure size 1000x600 with 3 Axes>"
      ]
     },
     "metadata": {},
     "output_type": "display_data"
    }
   ],
   "source": [
    "plt.figure(figsize=(10,6))\n",
    "plt.subplot(1,3,1)\n",
    "plt.scatter(t, np.abs(mags), label = 'Magnetization')\n",
    "plt.scatter(t, 1 - model.predict(X), label = 'Prediction')\n",
    "plt.vlines(2.269, 0, 1, 'k')\n",
    "plt.legend()\n",
    "\n",
    "plt.subplot(1,3,2)\n",
    "plt.scatter(np.abs(mags), 1 - model.predict(X))\n",
    "plt.title('Magnetization vs. Prediction')\n",
    "plt.legend()\n",
    "\n",
    "plt.subplot(1,3,3)\n",
    "plt.scatter(t, y, label = 'Phase')\n",
    "plt.scatter(t, 0.05 + 0.9 * (model.predict(X) > 0.5), label = 'Prediction')\n",
    "plt.vlines(2.269, 0, 1, 'k')\n",
    "plt.legend()\n"
   ]
  },
  {
   "cell_type": "code",
   "execution_count": 74,
   "metadata": {},
   "outputs": [
    {
     "data": {
      "text/plain": [
       "800"
      ]
     },
     "execution_count": 74,
     "metadata": {},
     "output_type": "execute_result"
    }
   ],
   "source": [
    "len(mags)"
   ]
  },
  {
   "cell_type": "markdown",
   "metadata": {},
   "source": [
    "For a single trained model this is a way of seeing which test example was classified incorrectly."
   ]
  },
  {
   "cell_type": "code",
   "execution_count": 80,
   "metadata": {},
   "outputs": [
    {
     "name": "stdout",
     "output_type": "stream",
     "text": [
      "\u001b[1m7/7\u001b[0m \u001b[32m━━━━━━━━━━━━━━━━━━━━\u001b[0m\u001b[37m\u001b[0m \u001b[1m0s\u001b[0m 7ms/step \n"
     ]
    },
    {
     "data": {
      "text/plain": [
       "array([[0.03757322],\n",
       "       [0.6034272 ],\n",
       "       [0.5481518 ],\n",
       "       [0.7002739 ],\n",
       "       [0.9548353 ],\n",
       "       [0.7257522 ],\n",
       "       [0.57400566],\n",
       "       [0.22028887],\n",
       "       [0.5914277 ],\n",
       "       [0.9702659 ],\n",
       "       [0.88354975],\n",
       "       [0.97261083],\n",
       "       [0.97187835],\n",
       "       [0.964569  ],\n",
       "       [0.9733702 ],\n",
       "       [0.96968925],\n",
       "       [0.96699834],\n",
       "       [0.97110176],\n",
       "       [0.9715482 ],\n",
       "       [0.9565395 ],\n",
       "       [0.82903975],\n",
       "       [0.12406584],\n",
       "       [0.42614552],\n",
       "       [0.5450593 ],\n",
       "       [0.5860366 ],\n",
       "       [0.04750896],\n",
       "       [0.49550182],\n",
       "       [0.95876586],\n",
       "       [0.34414005],\n",
       "       [0.9570911 ],\n",
       "       [0.90788144],\n",
       "       [0.89070255],\n",
       "       [0.93234736],\n",
       "       [0.9636561 ],\n",
       "       [0.96930754],\n",
       "       [0.9641084 ],\n",
       "       [0.9687521 ],\n",
       "       [0.8748    ],\n",
       "       [0.9706357 ],\n",
       "       [0.9711826 ],\n",
       "       [0.7484897 ],\n",
       "       [0.86605906],\n",
       "       [0.02263716],\n",
       "       [0.25049797],\n",
       "       [0.789564  ],\n",
       "       [0.41656452],\n",
       "       [0.5055954 ],\n",
       "       [0.8857746 ],\n",
       "       [0.90743357],\n",
       "       [0.80039924],\n",
       "       [0.90928537],\n",
       "       [0.78924185],\n",
       "       [0.97338164],\n",
       "       [0.94626033],\n",
       "       [0.93124557],\n",
       "       [0.9677727 ],\n",
       "       [0.97262174],\n",
       "       [0.9702813 ],\n",
       "       [0.9664318 ],\n",
       "       [0.97112083],\n",
       "       [0.46487617],\n",
       "       [0.41101068],\n",
       "       [0.4210298 ],\n",
       "       [0.6572368 ],\n",
       "       [0.41283524],\n",
       "       [0.4589497 ],\n",
       "       [0.9370001 ],\n",
       "       [0.05309522],\n",
       "       [0.26728907],\n",
       "       [0.8097628 ],\n",
       "       [0.7258215 ],\n",
       "       [0.9678818 ],\n",
       "       [0.9674771 ],\n",
       "       [0.9497321 ],\n",
       "       [0.97289914],\n",
       "       [0.93094385],\n",
       "       [0.9429144 ],\n",
       "       [0.96740115],\n",
       "       [0.97310513],\n",
       "       [0.9732895 ],\n",
       "       [0.5844532 ],\n",
       "       [0.09759905],\n",
       "       [0.23709397],\n",
       "       [0.0864163 ],\n",
       "       [0.10025458],\n",
       "       [0.7170839 ],\n",
       "       [0.45053276],\n",
       "       [0.7775692 ],\n",
       "       [0.28081432],\n",
       "       [0.9606445 ],\n",
       "       [0.8797805 ],\n",
       "       [0.9230041 ],\n",
       "       [0.9690093 ],\n",
       "       [0.96658313],\n",
       "       [0.94948167],\n",
       "       [0.9692142 ],\n",
       "       [0.8910986 ],\n",
       "       [0.9391241 ],\n",
       "       [0.95106006],\n",
       "       [0.9593997 ],\n",
       "       [0.12333433],\n",
       "       [0.55952376],\n",
       "       [0.6711802 ],\n",
       "       [0.56732666],\n",
       "       [0.03441211],\n",
       "       [0.81553775],\n",
       "       [0.85337657],\n",
       "       [0.33235323],\n",
       "       [0.70846087],\n",
       "       [0.71348476],\n",
       "       [0.923554  ],\n",
       "       [0.89334834],\n",
       "       [0.9639727 ],\n",
       "       [0.96252376],\n",
       "       [0.95511657],\n",
       "       [0.9688729 ],\n",
       "       [0.9579278 ],\n",
       "       [0.91932315],\n",
       "       [0.9614233 ],\n",
       "       [0.9474044 ],\n",
       "       [0.8709806 ],\n",
       "       [0.14995077],\n",
       "       [0.91167927],\n",
       "       [0.30927756],\n",
       "       [0.4587527 ],\n",
       "       [0.20875949],\n",
       "       [0.7722746 ],\n",
       "       [0.1485669 ],\n",
       "       [0.57098126],\n",
       "       [0.92821676],\n",
       "       [0.9326647 ],\n",
       "       [0.92001736],\n",
       "       [0.9669287 ],\n",
       "       [0.94306207],\n",
       "       [0.9397478 ],\n",
       "       [0.96971786],\n",
       "       [0.97321194],\n",
       "       [0.96751916],\n",
       "       [0.9717339 ],\n",
       "       [0.9731394 ],\n",
       "       [0.4153626 ],\n",
       "       [0.56957495],\n",
       "       [0.07581493],\n",
       "       [0.3503708 ],\n",
       "       [0.21286373],\n",
       "       [0.2910218 ],\n",
       "       [0.05068197],\n",
       "       [0.7897723 ],\n",
       "       [0.9396835 ],\n",
       "       [0.91745913],\n",
       "       [0.9436733 ],\n",
       "       [0.96903896],\n",
       "       [0.9702425 ],\n",
       "       [0.9690454 ],\n",
       "       [0.9682655 ],\n",
       "       [0.9687709 ],\n",
       "       [0.9658791 ],\n",
       "       [0.9445247 ],\n",
       "       [0.9726432 ],\n",
       "       [0.92723894],\n",
       "       [0.803256  ],\n",
       "       [0.23308961],\n",
       "       [0.18165298],\n",
       "       [0.6349106 ],\n",
       "       [0.5494463 ],\n",
       "       [0.91310227],\n",
       "       [0.22630852],\n",
       "       [0.5636698 ],\n",
       "       [0.6148319 ],\n",
       "       [0.7181422 ],\n",
       "       [0.92865264],\n",
       "       [0.9675995 ],\n",
       "       [0.96770483],\n",
       "       [0.91191083],\n",
       "       [0.97031593],\n",
       "       [0.96922547],\n",
       "       [0.9726284 ],\n",
       "       [0.97175854],\n",
       "       [0.9713201 ],\n",
       "       [0.95467716],\n",
       "       [0.8539451 ],\n",
       "       [0.6806773 ],\n",
       "       [0.6136785 ],\n",
       "       [0.21509878],\n",
       "       [0.3551081 ],\n",
       "       [0.9326939 ],\n",
       "       [0.92795247],\n",
       "       [0.5076807 ],\n",
       "       [0.6369338 ],\n",
       "       [0.6553095 ],\n",
       "       [0.9646957 ],\n",
       "       [0.8787317 ],\n",
       "       [0.9551934 ],\n",
       "       [0.96707904],\n",
       "       [0.96693635],\n",
       "       [0.9604389 ],\n",
       "       [0.96126044],\n",
       "       [0.94263047],\n",
       "       [0.972005  ],\n",
       "       [0.9702121 ]], dtype=float32)"
      ]
     },
     "execution_count": 80,
     "metadata": {},
     "output_type": "execute_result"
    }
   ],
   "source": [
    "model.predict(X_test)"
   ]
  },
  {
   "cell_type": "code",
   "execution_count": null,
   "metadata": {},
   "outputs": [
    {
     "data": {
      "text/plain": [
       "array([1.])"
      ]
     },
     "execution_count": 205,
     "metadata": {},
     "output_type": "execute_result"
    },
    {
     "data": {
      "image/png": "[encoded data removed]",
      "text/plain": [
       "<Figure size 432x288 with 1 Axes>"
      ]
     },
     "metadata": {
      "needs_background": "light"
     },
     "output_type": "display_data"
    }
   ],
   "source": [
    "\n",
    "plt.scatter()"
   ]
  },
  {
   "cell_type": "markdown",
   "metadata": {},
   "source": [
    "# Tuning hyperparameters"
   ]
  },
  {
   "cell_type": "markdown",
   "metadata": {},
   "source": [
    "Training the model is not enough. there are a lot of parameters to vary and doing it by hand is cumbersome so we can automate it a little bit. This function takes in various parameters in the training along with the data and it trains the neural network. It outputs the parameters used and the test accuracy to we can use it in a loop to find the best hyperparameters."
   ]
  },
  {
   "cell_type": "code",
   "execution_count": 13,
   "metadata": {},
   "outputs": [],
   "source": [
    "def deep_nn(X, y, X_test, y_test, layer1=10, layer2=10, lambd=0.05, num_epochs=50):\n",
    "\n",
    "    # Initialize list of training and test errors\n",
    "    train_errors = []\n",
    "    test_errors = []\n",
    "\n",
    "\n",
    "    # Loop to run model many times and average over results\n",
    "\n",
    "    for i in range(15):\n",
    "\n",
    "        # Print iteration to make sure everything works\n",
    "        print(i, end=\"\\r\")\n",
    "        \n",
    "        # Initialize model\n",
    "        model = Sequential()\n",
    "\n",
    "        # Add hidden layer with 32 units and rlu activation. Add output layer with sigmoid activation.\n",
    "        model.add(Dense(layer1, activation='relu', kernel_regularizer=l2(lambd), input_dim=25**2))\n",
    "        model.add(Dense(layer2, activation='relu', kernel_regularizer=l2(lambd)))\n",
    "        model.add(Dense(1, activation='sigmoid'))\n",
    "\n",
    "        # Compile model\n",
    "        model.compile(optimizer='Adam', loss='binary_crossentropy', metrics=['accuracy'])\n",
    "\n",
    "        # Fit model\n",
    "        model.fit(X, y, epochs=num_epochs, verbose=0)\n",
    "\n",
    "        # Add training and test errors to lists\n",
    "        train_errors.append(model.evaluate(X,y,verbose=0)[1])\n",
    "        test_errors.append(model.evaluate(X_test,y_test,verbose=0)[1])\n",
    "    \n",
    "    \n",
    "    print('Average of test errors for '+str(layer1)+' units in layer 1, '+str(layer2)+' units in layer 2, a regularization of '\n",
    "      +str(lambd)+' and '+str(num_epochs)+' epochs: '+str(np.mean(test_errors)))"
   ]
  },
  {
   "cell_type": "markdown",
   "metadata": {},
   "source": [
    "Here we run the model for different values of the regularization parameter and it is clear that more regularization is better. There must be an upper bound at some point but it is not clear yet what it is."
   ]
  },
  {
   "cell_type": "code",
   "execution_count": 33,
   "metadata": {},
   "outputs": [
    {
     "name": "stdout",
     "output_type": "stream",
     "text": [
      "Average of test errors for 10 units in layer 1, 10 units in layer 2, a regularization of 0 and 50 epochs: 0.793\n",
      "Average of test errors for 10 units in layer 1, 10 units in layer 2, a regularization of 0.05 and 50 epochs: 0.897\n",
      "Average of test errors for 10 units in layer 1, 10 units in layer 2, a regularization of 0.1 and 50 epochs: 0.9223333333333336\n"
     ]
    }
   ],
   "source": [
    "for lambd in [0, 0.05, 0.1]:\n",
    "            \n",
    "        deep_nn(X,y,X_test,y_test, lambd=lambd)"
   ]
  },
  {
   "cell_type": "markdown",
   "metadata": {},
   "source": [
    "We train the model for different sizes of the first hidden layer to see how much it impacts the accuracy. It looks like a bigger layer increases pretty well the efficiency of the model. Increasing more could be even better, up to a point."
   ]
  },
  {
   "cell_type": "code",
   "execution_count": 35,
   "metadata": {},
   "outputs": [
    {
     "name": "stdout",
     "output_type": "stream",
     "text": [
      "Average of test errors for 10 units in layer 1, 10 units in layer 2, a regularization of 0.05 and 50 epochs: 0.8856666666666667\n",
      "Average of test errors for 15 units in layer 1, 10 units in layer 2, a regularization of 0.05 and 50 epochs: 0.9173333333333334\n",
      "Average of test errors for 20 units in layer 1, 10 units in layer 2, a regularization of 0.05 and 50 epochs: 0.9326666666666668\n"
     ]
    }
   ],
   "source": [
    "for layer1 in [10, 15, 20]:\n",
    "    \n",
    "        deep_nn(X,y,X_test,y_test, layer1)"
   ]
  },
  {
   "cell_type": "markdown",
   "metadata": {},
   "source": [
    "Now we train the model for a different number of epochs and see that even if doing early stopping helps a little bit it is not the main solution, compared to regularization for example."
   ]
  },
  {
   "cell_type": "code",
   "execution_count": 32,
   "metadata": {},
   "outputs": [
    {
     "name": "stdout",
     "output_type": "stream",
     "text": [
      "Average of test errors for 10 units in layer 1, 10 units in layer 2, a regularization of 0.05 and 40 epochs: 0.909\n",
      "Average of test errors for 10 units in layer 1, 10 units in layer 2, a regularization of 0.05 and 50 epochs: 0.9023333333333333\n",
      "Average of test errors for 10 units in layer 1, 10 units in layer 2, a regularization of 0.05 and 60 epochs: 0.8893333333333332\n"
     ]
    }
   ],
   "source": [
    "for num_epochs in [40, 50, 60]:\n",
    "    \n",
    "    deep_nn(X,y,X_test,y_test, num_epochs=num_epochs)"
   ]
  },
  {
   "cell_type": "markdown",
   "metadata": {},
   "source": [
    "# Experiment with other data"
   ]
  },
  {
   "cell_type": "markdown",
   "metadata": {},
   "source": [
    "## More data"
   ]
  },
  {
   "cell_type": "markdown",
   "metadata": {},
   "source": [
    "It's interesting to see if getting more data with the same parameters for the model will give better results so we generate new data to fit the model. The result is actually a little bit less accurate so we would need to tune more the parameters. "
   ]
  },
  {
   "cell_type": "code",
   "execution_count": 37,
   "metadata": {},
   "outputs": [
    {
     "name": "stdout",
     "output_type": "stream",
     "text": [
      "1124\r"
     ]
    }
   ],
   "source": [
    "raw_X, X, y = generate_data(size=25, num_temp=45, repeat=25)"
   ]
  },
  {
   "cell_type": "code",
   "execution_count": 40,
   "metadata": {},
   "outputs": [
    {
     "name": "stdout",
     "output_type": "stream",
     "text": [
      "Average of test errors for 25 units in layer 1, 15 units in layer 2, a regularization of 0.1 and 40 epochs: 0.9239999999999999\n"
     ]
    }
   ],
   "source": [
    "deep_nn(X, y, X_test, y_test, layer1=25, layer2=15, lambd=0.1, num_epochs=40)"
   ]
  },
  {
   "cell_type": "markdown",
   "metadata": {},
   "source": [
    "## Longer simulation"
   ]
  },
  {
   "cell_type": "markdown",
   "metadata": {},
   "source": [
    "One other thing to try is simulating the Ising model for a longer period of time. We keep the same amount of data as the original case but simulate longer and see if it is easier to classify the phases."
   ]
  },
  {
   "cell_type": "code",
   "execution_count": 11,
   "metadata": {},
   "outputs": [
    {
     "name": "stdout",
     "output_type": "stream",
     "text": [
      "799\r"
     ]
    }
   ],
   "source": [
    "raw_X, X, y = generate_data(size=25, num_temp=40, repeat=20, max_iter=10*25*25)"
   ]
  },
  {
   "cell_type": "markdown",
   "metadata": {},
   "source": [
    "We first test the neural network on the old test set (simulated for a shorter time) to see how it reacts. The neural network seems to do worse."
   ]
  },
  {
   "cell_type": "code",
   "execution_count": 14,
   "metadata": {},
   "outputs": [
    {
     "name": "stdout",
     "output_type": "stream",
     "text": [
      "Average of test errors for 25 units in layer 1, 15 units in layer 2, a regularization of 0.1 and 40 epochs: 0.8240000000000002\n"
     ]
    }
   ],
   "source": [
    "deep_nn(X, y, X_test, y_test, layer1=25, layer2=15, lambd=0.1, num_epochs=40)"
   ]
  },
  {
   "cell_type": "markdown",
   "metadata": {},
   "source": [
    "We can also check if evaluating the model on data that stops at the same time step is good. This should at least be better since the test set looks more like the training set and it indeed is better."
   ]
  },
  {
   "cell_type": "code",
   "execution_count": 15,
   "metadata": {},
   "outputs": [
    {
     "name": "stdout",
     "output_type": "stream",
     "text": [
      "Average of test errors for 25 units in layer 1, 15 units in layer 2, a regularization of 0.1 and 40 epochs: 0.9796666666666667\n"
     ]
    }
   ],
   "source": [
    "raw_X_test, X_test, y_test = generate_data(size=25, num_temp=20, repeat=10, max_iter=10*25*25)\n",
    "deep_nn(X, y, X_test, y_test, layer1=25, layer2=15, lambd=0.1, num_epochs=40)"
   ]
  },
  {
   "cell_type": "code",
   "execution_count": 22,
   "metadata": {},
   "outputs": [
    {
     "data": {
      "text/plain": [
       "array([0.])"
      ]
     },
     "execution_count": 22,
     "metadata": {},
     "output_type": "execute_result"
    },
    {
     "data": {
      "image/png": "[encoded data removed]",
      "text/plain": [
       "<Figure size 432x288 with 1 Axes>"
      ]
     },
     "metadata": {
      "needs_background": "light"
     },
     "output_type": "display_data"
    }
   ],
   "source": [
    "plot_grid(raw_X_test[10])\n",
    "y[10]"
   ]
  },
  {
   "cell_type": "code",
   "execution_count": 25,
   "metadata": {},
   "outputs": [
    {
     "data": {
      "image/png": "[encoded data removed]",
      "text/plain": [
       "<Figure size 432x288 with 1 Axes>"
      ]
     },
     "metadata": {
      "needs_background": "light"
     },
     "output_type": "display_data"
    }
   ],
   "source": [
    "plot_grid(initialize_grid(25))"
   ]
  },
  {
   "cell_type": "code",
   "execution_count": null,
   "metadata": {},
   "outputs": [],
   "source": []
  }
 ],
 "metadata": {
  "kernelspec": {
   "display_name": "mbr",
   "language": "python",
   "name": "python3"
  },
  "language_info": {
   "codemirror_mode": {
    "name": "ipython",
    "version": 3
   },
   "file_extension": ".py",
   "mimetype": "text/x-python",
   "name": "python",
   "nbconvert_exporter": "python",
   "pygments_lexer": "ipython3",
   "version": "3.12.3"
  }
 },
 "nbformat": 4,
 "nbformat_minor": 2
}
